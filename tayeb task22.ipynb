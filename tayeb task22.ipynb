{
 "cells": [
  {
   "cell_type": "code",
   "execution_count": 1,
   "id": "0c5dd502",
   "metadata": {},
   "outputs": [
    {
     "name": "stdout",
     "output_type": "stream",
     "text": [
      "Seq: ALTAYEB\n",
      "Prefix: ALTAYE\n",
      "Suffix: EB\n",
      "ConcaT: ALTAYEBALTAYEB\n",
      "\n",
      "648.3118954036001\n",
      "650.326448337142\n",
      "325.163224168571\n"
     ]
    }
   ],
   "source": [
    "\n",
    "from pyopenms import *\n",
    "seq = AASequence.fromString(\"ALTAYEB\") \n",
    "prefix = seq.getPrefix(6) \n",
    "suffix = seq.getSuffix(2) \n",
    "concat = seq + seq \n",
    "\n",
    "print(\"Seq:\", seq)\n",
    "print(\"Prefix:\", prefix)\n",
    "print(\"Suffix:\", suffix)\n",
    "print(\"ConcaT:\", concat)\n",
    "\n",
    "full = seq.getMonoWeight()\n",
    "mpre = seq.getMonoWeight(Residue.ResidueType.Full, 2)\n",
    "mz = seq.getMonoWeight(Residue.ResidueType.Full, 2)\n",
    "mz = seq.getMZ(2)\n",
    "\n",
    "print()\n",
    "print(full)\n",
    "print(mpre)\n",
    "print(mz)"
   ]
  },
  {
   "cell_type": "code",
   "execution_count": 3,
   "id": "6f92a51e",
   "metadata": {},
   "outputs": [
    {
     "name": "stdout",
     "output_type": "stream",
     "text": [
      "ALTAYEB\n",
      "Alanine : 89.0476792233\n",
      "Leucine : 131.0946294147\n",
      "Threonine : 119.0582442871\n",
      "Alanine : 89.0476792233\n",
      "Tyrosine : 181.07389435090002\n",
      "Glutamate : 147.0531592871\n",
      "Asparagine/Aspartate : 0.0\n"
     ]
    }
   ],
   "source": [
    "\n",
    "seq = AASequence.fromString(\"ALTAYEB\")\n",
    "\n",
    "print(str(seq))\n",
    "for aa in seq:\n",
    "    print(aa.getName(), \":\", aa.getMonoWeight())\n",
    "\n"
   ]
  },
  {
   "cell_type": "code",
   "execution_count": 4,
   "id": "c297c2c8",
   "metadata": {},
   "outputs": [
    {
     "name": "stdout",
     "output_type": "stream",
     "text": [
      "N-Term Modification:  Pyro-carbamidomethyl (N-term C)\n",
      "Cysteine : 121.01974995329999\n",
      "Proline : 115.06332928709999\n",
      "Lysine : 146.1055284466\n",
      "Cysteine : 121.01974995329999\n",
      "Lysine : 154.1197284466 : Label:13C(6)15N(2)\n",
      "Cysteine : 121.01974995329999\n",
      "Arginine : 174.1116764466\n"
     ]
    }
   ],
   "source": [
    "\n",
    "seq = AASequence.fromString(\"C[143]PKCK(Label:13C(6)15N(2))CR\")\n",
    "\n",
    "if seq.hasNTerminalModification():\n",
    "    print(\"N-Term Modification: \", seq.getNTerminalModification().getFullId())\n",
    "if seq.hasCTerminalModification():\n",
    "    print(\"C-Term Modification: \", seq.getCTerminalModification().getFullId())\n",
    "\n",
    "for aa in seq:\n",
    "    if (aa.isModified()):\n",
    "        print(aa.getName(), \":\", aa.getMonoWeight(), \":\", aa.getModificationName())\n",
    "    else:\n",
    "        print(aa.getName(), \":\", aa.getMonoWeight())\n"
   ]
  },
  {
   "cell_type": "code",
   "execution_count": 5,
   "id": "6625aaec",
   "metadata": {},
   "outputs": [
    {
     "name": "stdout",
     "output_type": "stream",
     "text": [
      "Peptide ALTAYEB has molecular formula C30H46N6O11\n"
     ]
    }
   ],
   "source": [
    "\n",
    "seq = AASequence.fromString(\"ALTAYEB\")\n",
    "seq_formula = seq.getFormula()\n",
    "print(\"Peptide\", seq, \"has molecular formula\", seq_formula)\n",
    "\n"
   ]
  },
  {
   "cell_type": "code",
   "execution_count": 6,
   "id": "ca590fb7",
   "metadata": {},
   "outputs": [
    {
     "name": "stdout",
     "output_type": "stream",
     "text": [
      "Isotope 666.3224604674 has abundance 68.59981417655945 %\n",
      "Isotope 667.3258153052 has abundance 24.4293674826622 %\n",
      "Isotope 668.3291701429999 has abundance 5.777261406183243 %\n",
      "Isotope 669.3325249808 has abundance 1.0249597951769829 %\n",
      "Isotope 670.3358798186 has abundance 0.14983362052589655 %\n",
      "Isotope 671.3392346564 has abundance 0.018762362014967948 %\n"
     ]
    }
   ],
   "source": [
    "\n",
    "isotopes = seq_formula.getIsotopeDistribution( CoarseIsotopePatternGenerator(6) )\n",
    "for iso in isotopes.getContainer():\n",
    "    print (\"Isotope\", iso.getMZ(), \"has abundance\", iso.getIntensity()*100, \"%\")\n"
   ]
  },
  {
   "cell_type": "code",
   "execution_count": 10,
   "id": "002941bf",
   "metadata": {},
   "outputs": [
    {
     "name": "stdout",
     "output_type": "stream",
     "text": [
      "===================================\n",
      "y3 ion sequence: YEB\n",
      "y3 mz: 147.06023822197102\n",
      "y3 molecular formula: C14H18N2O6\n"
     ]
    }
   ],
   "source": [
    "suffix = seq.getSuffix(3) # y3 ion \"GER\"\n",
    "print(\"=\"*35)\n",
    "print(\"y3 ion sequence:\", suffix)\n",
    "y3_formula = suffix.getFormula(Residue.ResidueType.YIon, 2) # y3++ ion\n",
    "suffix.getMonoWeight(Residue.ResidueType.YIon, 2) / 2.0 # CORRECT\n",
    "suffix.getMonoWeight(Residue.ResidueType.XIon, 2) / 2.0 # CORRECT\n",
    "suffix.getMonoWeight(Residue.ResidueType.BIon, 2) / 2.0 # INCORRECT\n",
    "\n",
    "print(\"y3 mz:\", suffix.getMonoWeight(Residue.ResidueType.YIon, 2) / 2.0 )\n",
    "print(\"y3 molecular formula:\", y3_formula)"
   ]
  },
  {
   "cell_type": "code",
   "execution_count": 11,
   "id": "565cf05c",
   "metadata": {},
   "outputs": [
    {
     "name": "stdout",
     "output_type": "stream",
     "text": [
      "PEPTIDESEKUEMCER\n",
      "PEPTIDESEKUEM(Oxidation)CER\n",
      "PEPTIDESEKUEM(UniMod:35)CER\n",
      "PEPTIDESEKUEM[147]CER\n",
      "PEPTIDESEKUEM[147.035400017100017]CER\n",
      "DFPIAM(Oxidation)GER\n",
      "DFPIAM(Oxidation)GER\n",
      "DFPIAM(Oxidation)GER\n",
      "DFPIAM(Oxidation)GER\n",
      "DFPIAM(Oxidation)GER\n"
     ]
    }
   ],
   "source": [
    "seq = AASequence.fromString(\"PEPTIDESEKUEM(Oxidation)CER\")\n",
    "print(seq.toUnmodifiedString())\n",
    "print(seq.toString())\n",
    "print(seq.toUniModString())\n",
    "print(seq.toBracketString())\n",
    "print(seq.toBracketString(False))\n",
    "\n",
    "print(AASequence.fromString(\"DFPIAM(UniMod:35)GER\"))\n",
    "print(AASequence.fromString(\"DFPIAM[+16]GER\"))\n",
    "print(AASequence.fromString(\"DFPIAM[+15.99]GER\"))\n",
    "print(AASequence.fromString(\"DFPIAM[147]GER\"))\n",
    "print(AASequence.fromString(\"DFPIAM[147.035405]GER\"))"
   ]
  },
  {
   "cell_type": "code",
   "execution_count": 12,
   "id": "06aee283",
   "metadata": {},
   "outputs": [
    {
     "name": "stdout",
     "output_type": "stream",
     "text": [
      ".(Dimethyl)DFPIAMGER True\n",
      "DFPIAMGER.(Label:18O(2)) True\n",
      "DFPIAMGER(Phospho) False\n"
     ]
    }
   ],
   "source": [
    "s = AASequence.fromString(\".(Dimethyl)DFPIAMGER.\")\n",
    "print(s, s.hasNTerminalModification())\n",
    "s = AASequence.fromString(\".DFPIAMGER.(Label:18O(2))\")\n",
    "print(s, s.hasCTerminalModification())\n",
    "s = AASequence.fromString(\".DFPIAMGER(Phospho).\")\n",
    "print(s, s.hasCTerminalModification())"
   ]
  },
  {
   "cell_type": "code",
   "execution_count": 13,
   "id": "1b3ac667",
   "metadata": {},
   "outputs": [],
   "source": [
    "bsa = FASTAEntry() \n",
    "bsa.sequence = \"MKWVTFISLLLLFSSAYSRGVFRRDTHKSEIAHRFKDLGE\"\n",
    "bsa.description = \"BSA Bovine Albumin (partial sequence)\"\n",
    "bsa.identifier = \"BSA\"\n",
    "alb = FASTAEntry()\n",
    "alb.sequence = \"MKWVTFISLLFLFSSAYSRGVFRRDAHKSEVAHRFKDLGE\"\n",
    "alb.description = \"ALB Human Albumin (partial sequence)\"\n",
    "alb.identifier = \"ALB\"\n",
    "\n",
    "entries = [bsa, alb]\n",
    "\n",
    "f = FASTAFile()\n",
    "f.store(\"example.fasta\", entries)"
   ]
  },
  {
   "cell_type": "code",
   "execution_count": 14,
   "id": "5ec03b42",
   "metadata": {},
   "outputs": [
    {
     "name": "stdout",
     "output_type": "stream",
     "text": [
      "2\n",
      "BSA MKWVTFISLLLLFSSAYSRGVFRRDTHKSEIAHRFKDLGE\n",
      "ALB MKWVTFISLLFLFSSAYSRGVFRRDAHKSEVAHRFKDLGE\n"
     ]
    }
   ],
   "source": [
    "entries = []\n",
    "f = FASTAFile()\n",
    "f.load(\"example.fasta\", entries)\n",
    "print( len(entries) )\n",
    "for e in entries:\n",
    "  print (e.identifier, e.sequence)"
   ]
  },
  {
   "cell_type": "code",
   "execution_count": null,
   "id": "b6c4d542",
   "metadata": {},
   "outputs": [],
   "source": []
  }
 ],
 "metadata": {
  "kernelspec": {
   "display_name": "Python 3",
   "language": "python",
   "name": "python3"
  },
  "language_info": {
   "codemirror_mode": {
    "name": "ipython",
    "version": 3
   },
   "file_extension": ".py",
   "mimetype": "text/x-python",
   "name": "python",
   "nbconvert_exporter": "python",
   "pygments_lexer": "ipython3",
   "version": "3.8.8"
  }
 },
 "nbformat": 4,
 "nbformat_minor": 5
}
